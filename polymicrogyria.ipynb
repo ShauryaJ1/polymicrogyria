{
  "nbformat": 4,
  "nbformat_minor": 0,
  "metadata": {
    "colab": {
      "provenance": [],
      "toc_visible": true
    },
    "kernelspec": {
      "name": "python3",
      "display_name": "Python 3"
    },
    "language_info": {
      "name": "python"
    }
  },
  "cells": [
    {
      "cell_type": "markdown",
      "source": [
        "#Imports, Installations, Dataset Download, and Sign-in"
      ],
      "metadata": {
        "id": "YMyIv5vQZrxL"
      }
    },
    {
      "cell_type": "code",
      "execution_count": null,
      "metadata": {
        "id": "SdGr1EnCDw1E"
      },
      "outputs": [],
      "source": [
        "!pip install opendatasets"
      ]
    },
    {
      "cell_type": "code",
      "execution_count": null,
      "metadata": {
        "id": "I-z-C89t3Bo5"
      },
      "outputs": [],
      "source": [
        "!pip install -U -q datasets transformers[torch] evaluate timm albumentations accelerate torchmetrics"
      ]
    },
    {
      "cell_type": "code",
      "execution_count": null,
      "metadata": {
        "id": "2DffR4lywdAB"
      },
      "outputs": [],
      "source": [
        "pip install lightning"
      ]
    },
    {
      "cell_type": "code",
      "execution_count": null,
      "metadata": {
        "id": "ywNXlZgBErfI"
      },
      "outputs": [],
      "source": [
        "!pip install huggingface_hub"
      ]
    },
    {
      "cell_type": "code",
      "source": [
        "import os\n",
        "import cv2 as cv\n",
        "import numpy as np\n",
        "import matplotlib.pyplot as plt\n",
        "import shutil\n",
        "from google.colab.patches import cv2_imshow\n",
        "import opendatasets as od\n",
        "import torch\n",
        "import torchvision\n",
        "from pathlib import Path\n",
        "from huggingface_hub import hf_hub_download\n",
        "from tqdm.auto import tqdm\n",
        "from PIL import Image as im\n",
        "import albumentations as A\n",
        "import lightning as l\n",
        "import random\n",
        "import requests\n",
        "from torch.utils.data import DataLoader, Dataset\n",
        "from torchvision.transforms import ToTensor\n",
        "from datasets import load_dataset, Image, DatasetDict, Dataset\n"
      ],
      "metadata": {
        "id": "2xpEmwruDzdf"
      },
      "execution_count": null,
      "outputs": []
    },
    {
      "cell_type": "code",
      "source": [
        "!huggingface-cli login"
      ],
      "metadata": {
        "id": "Sfe2R5sXgOHk"
      },
      "execution_count": null,
      "outputs": []
    },
    {
      "cell_type": "code",
      "source": [
        "od.download(\"https://www.kaggle.com/datasets/lingfengzhang/pediatric-polymicrogyria-mri-dataset\")"
      ],
      "metadata": {
        "id": "3QxkI4h3D01R"
      },
      "execution_count": null,
      "outputs": []
    },
    {
      "cell_type": "markdown",
      "source": [
        "#Balanced Dataset Creation"
      ],
      "metadata": {
        "id": "cuOnAzmNZ11h"
      }
    },
    {
      "cell_type": "code",
      "source": [
        "image_folders = []\n",
        "for i in os.listdir(\"/content/pediatric-polymicrogyria-mri-dataset/PPMR/PMGControlsEditedDec2021\"):\n",
        "  for j in os.listdir(os.path.join(\"/content/pediatric-polymicrogyria-mri-dataset/PPMR/PMGControlsEditedDec2021\", i)):\n",
        "    image_folders.append(len(os.listdir(os.path.join(\"/content/pediatric-polymicrogyria-mri-dataset/PPMR/PMGControlsEditedDec2021\", i, j))))"
      ],
      "metadata": {
        "id": "NlfovS0-oE7z"
      },
      "execution_count": null,
      "outputs": []
    },
    {
      "cell_type": "code",
      "source": [
        "sum(image_folders)"
      ],
      "metadata": {
        "id": "bEPakBBZpU9p"
      },
      "execution_count": null,
      "outputs": []
    },
    {
      "cell_type": "code",
      "source": [
        "sum(image_folders)"
      ],
      "metadata": {
        "id": "so-VZvjJqOZ3"
      },
      "execution_count": null,
      "outputs": []
    },
    {
      "cell_type": "code",
      "source": [
        "PPMR_image_paths = []\n",
        "for i in os.listdir(\"/content/pediatric-polymicrogyria-mri-dataset/PPMR/PMGstudycaseslabelled\"):\n",
        "  for j in os.listdir(os.path.join(\"/content/pediatric-polymicrogyria-mri-dataset/PPMR/PMGstudycaseslabelled\", i)):\n",
        "    PPMR_image_paths+=[os.path.join(\"/content/pediatric-polymicrogyria-mri-dataset/PPMR/PMGstudycaseslabelled\",i,j,k) for k in os.listdir(os.path.join(\"/content/pediatric-polymicrogyria-mri-dataset/PPMR/PMGstudycaseslabelled\", i, j))]"
      ],
      "metadata": {
        "id": "KeGgMR79qQZ2"
      },
      "execution_count": null,
      "outputs": []
    },
    {
      "cell_type": "code",
      "source": [
        "len(PPMR_image_paths)"
      ],
      "metadata": {
        "id": "hqDTm6IMR4eN"
      },
      "execution_count": null,
      "outputs": []
    },
    {
      "cell_type": "code",
      "source": [
        "control_image_paths = []\n",
        "for i in os.listdir(\"/content/pediatric-polymicrogyria-mri-dataset/PPMR/PMGControlsEditedDec2021\"):\n",
        "  for j in os.listdir(os.path.join(\"/content/pediatric-polymicrogyria-mri-dataset/PPMR/PMGControlsEditedDec2021\", i)):\n",
        "    control_image_paths+=[os.path.join(\"/content/pediatric-polymicrogyria-mri-dataset/PPMR/PMGControlsEditedDec2021\",i,j,k) for k in os.listdir(os.path.join(\"/content/pediatric-polymicrogyria-mri-dataset/PPMR/PMGControlsEditedDec2021\", i, j))]"
      ],
      "metadata": {
        "id": "fH0w3Pc-SDvH"
      },
      "execution_count": null,
      "outputs": []
    },
    {
      "cell_type": "code",
      "source": [
        "len(control_image_paths)"
      ],
      "metadata": {
        "id": "myHi7QhKUNel"
      },
      "execution_count": null,
      "outputs": []
    },
    {
      "cell_type": "code",
      "source": [
        "control_image_paths[0]"
      ],
      "metadata": {
        "id": "DTXgw-dGdY1G"
      },
      "execution_count": null,
      "outputs": []
    },
    {
      "cell_type": "code",
      "source": [
        "random.shuffle(control_image_paths)\n",
        "random.shuffle(PPMR_image_paths)"
      ],
      "metadata": {
        "id": "tA-s_iOMUObL"
      },
      "execution_count": null,
      "outputs": []
    },
    {
      "cell_type": "code",
      "source": [
        "control_images_train_test_split = int(4517*0.8)\n",
        "PPMR_images_train_test_split = int(4517*0.8)"
      ],
      "metadata": {
        "id": "_pV1kYRKB6ao"
      },
      "execution_count": null,
      "outputs": []
    },
    {
      "cell_type": "code",
      "source": [
        "train_control_images = control_image_paths[:control_images_train_test_split]\n",
        "test_control_images = control_image_paths[control_images_train_test_split:4517]\n",
        "train_PPMR_images = PPMR_image_paths[:PPMR_images_train_test_split]\n",
        "test_PPMR_images = PPMR_image_paths[PPMR_images_train_test_split:4517]"
      ],
      "metadata": {
        "id": "Ny7j8sEJUbB-"
      },
      "execution_count": null,
      "outputs": []
    },
    {
      "cell_type": "code",
      "source": [
        "len(train_control_images), len(test_control_images), len(train_PPMR_images), len(test_PPMR_images)"
      ],
      "metadata": {
        "id": "F1MWj17AVI8z"
      },
      "execution_count": null,
      "outputs": []
    },
    {
      "cell_type": "code",
      "source": [
        "!mkdir folder\n",
        "!mkdir folder/train\n",
        "!mkdir folder/test\n",
        "!mkdir folder/train/ppmr\n",
        "!mkdir folder/train/control\n",
        "!mkdir folder/test/ppmr\n",
        "!mkdir folder/test/control"
      ],
      "metadata": {
        "id": "1wi2D2vOVNS6"
      },
      "execution_count": null,
      "outputs": []
    },
    {
      "cell_type": "code",
      "source": [
        "for i in train_control_images:\n",
        "  shutil.copy(i, \"/content/folder/train/control/\")\n",
        "for i in train_PPMR_images:\n",
        "  shutil.copy(i, \"/content/folder/train/ppmr/\")\n",
        "for i in test_control_images:\n",
        "  shutil.copy(i, \"/content/folder/test/control/\")\n",
        "for i in test_PPMR_images:\n",
        "  shutil.copy(i, \"/content/folder/test/ppmr/\")"
      ],
      "metadata": {
        "id": "TOqPqegKaxJK"
      },
      "execution_count": null,
      "outputs": []
    },
    {
      "cell_type": "code",
      "source": [
        "len(os.listdir(\"/content/folder/train/control\")), len(os.listdir(\"/content/folder/train/ppmr\")), len(os.listdir(\"/content/folder/test/control\")), len(os.listdir(\"/content/folder/test/ppmr/\"))"
      ],
      "metadata": {
        "id": "V5pfmFTBdox5"
      },
      "execution_count": null,
      "outputs": []
    },
    {
      "cell_type": "code",
      "source": [
        "dataset = load_dataset(\"imagefolder\", data_dir=\"/content/folder\")"
      ],
      "metadata": {
        "id": "vj1zQr67d09Z"
      },
      "execution_count": null,
      "outputs": []
    },
    {
      "cell_type": "code",
      "source": [
        "dataset.push_to_hub(\"sha000/ppmr-large-balanced\")"
      ],
      "metadata": {
        "id": "Y8gPjtmtb6l1"
      },
      "execution_count": null,
      "outputs": []
    },
    {
      "cell_type": "markdown",
      "source": [
        "# Full Unbalanced Dataset creation"
      ],
      "metadata": {
        "id": "nWVges7JavWt"
      }
    },
    {
      "cell_type": "code",
      "source": [
        "image_folders = []\n",
        "for i in os.listdir(\"/content/pediatric-polymicrogyria-mri-dataset/PPMR/PMGControlsEditedDec2021\"):\n",
        "  for j in os.listdir(os.path.join(\"/content/pediatric-polymicrogyria-mri-dataset/PPMR/PMGControlsEditedDec2021\", i)):\n",
        "    image_folders.append(len(os.listdir(os.path.join(\"/content/pediatric-polymicrogyria-mri-dataset/PPMR/PMGControlsEditedDec2021\", i, j))))"
      ],
      "metadata": {
        "id": "aO_sHfnha_R_"
      },
      "execution_count": null,
      "outputs": []
    },
    {
      "cell_type": "code",
      "source": [
        "sum(image_folders)"
      ],
      "metadata": {
        "id": "MJFPwlPqa_SA"
      },
      "execution_count": null,
      "outputs": []
    },
    {
      "cell_type": "code",
      "source": [
        "sum(image_folders)"
      ],
      "metadata": {
        "id": "511iCANia_SB"
      },
      "execution_count": null,
      "outputs": []
    },
    {
      "cell_type": "code",
      "source": [
        "PPMR_image_paths = []\n",
        "for i in os.listdir(\"/content/pediatric-polymicrogyria-mri-dataset/PPMR/PMGstudycaseslabelled\"):\n",
        "  for j in os.listdir(os.path.join(\"/content/pediatric-polymicrogyria-mri-dataset/PPMR/PMGstudycaseslabelled\", i)):\n",
        "    PPMR_image_paths+=[os.path.join(\"/content/pediatric-polymicrogyria-mri-dataset/PPMR/PMGstudycaseslabelled\",i,j,k) for k in os.listdir(os.path.join(\"/content/pediatric-polymicrogyria-mri-dataset/PPMR/PMGstudycaseslabelled\", i, j))]"
      ],
      "metadata": {
        "id": "vSXOpM_Ia_SB"
      },
      "execution_count": null,
      "outputs": []
    },
    {
      "cell_type": "code",
      "source": [
        "len(PPMR_image_paths)"
      ],
      "metadata": {
        "id": "RQZEEWXNa_SB"
      },
      "execution_count": null,
      "outputs": []
    },
    {
      "cell_type": "code",
      "source": [
        "control_image_paths = []\n",
        "for i in os.listdir(\"/content/pediatric-polymicrogyria-mri-dataset/PPMR/PMGControlsEditedDec2021\"):\n",
        "  for j in os.listdir(os.path.join(\"/content/pediatric-polymicrogyria-mri-dataset/PPMR/PMGControlsEditedDec2021\", i)):\n",
        "    control_image_paths+=[os.path.join(\"/content/pediatric-polymicrogyria-mri-dataset/PPMR/PMGControlsEditedDec2021\",i,j,k) for k in os.listdir(os.path.join(\"/content/pediatric-polymicrogyria-mri-dataset/PPMR/PMGControlsEditedDec2021\", i, j))]"
      ],
      "metadata": {
        "id": "5NbSNnCya_SE"
      },
      "execution_count": null,
      "outputs": []
    },
    {
      "cell_type": "code",
      "source": [
        "len(control_image_paths)"
      ],
      "metadata": {
        "id": "c0msXUI2a_SE"
      },
      "execution_count": null,
      "outputs": []
    },
    {
      "cell_type": "code",
      "source": [
        "control_image_paths[0]"
      ],
      "metadata": {
        "id": "WyVG8aZIa_SF"
      },
      "execution_count": null,
      "outputs": []
    },
    {
      "cell_type": "code",
      "source": [
        "random.shuffle(control_image_paths)\n",
        "random.shuffle(PPMR_image_paths)"
      ],
      "metadata": {
        "id": "wd5bxi43cBnx"
      },
      "execution_count": null,
      "outputs": []
    },
    {
      "cell_type": "code",
      "source": [
        "control_images_train_test_split = int(len(control_image_paths)*0.8)\n",
        "PPMR_images_train_test_split = int(PPMR_image_paths*0.8)"
      ],
      "metadata": {
        "id": "Q6-RZHf1cBny"
      },
      "execution_count": null,
      "outputs": []
    },
    {
      "cell_type": "code",
      "source": [
        "train_control_images = control_image_paths[:control_images_train_test_split]\n",
        "test_control_images = control_image_paths[control_images_train_test_split:]\n",
        "train_PPMR_images = PPMR_image_paths[:PPMR_images_train_test_split]\n",
        "test_PPMR_images = PPMR_image_paths[PPMR_images_train_test_split:]"
      ],
      "metadata": {
        "id": "yYi8qF4FcBnz"
      },
      "execution_count": null,
      "outputs": []
    },
    {
      "cell_type": "code",
      "source": [
        "len(train_control_images), len(test_control_images), len(train_PPMR_images), len(test_PPMR_images)"
      ],
      "metadata": {
        "id": "QKRcAAWscBnz"
      },
      "execution_count": null,
      "outputs": []
    },
    {
      "cell_type": "code",
      "source": [
        "!mkdir folder\n",
        "!mkdir folder/train\n",
        "!mkdir folder/test\n",
        "!mkdir folder/train/ppmr\n",
        "!mkdir folder/train/control\n",
        "!mkdir folder/test/ppmr\n",
        "!mkdir folder/test/control"
      ],
      "metadata": {
        "id": "7gQmQfMBcBnz"
      },
      "execution_count": null,
      "outputs": []
    },
    {
      "cell_type": "code",
      "source": [
        "for i in train_control_images:\n",
        "  shutil.copy(i, \"/content/folder/train/control/\")\n",
        "for i in train_PPMR_images:\n",
        "  shutil.copy(i, \"/content/folder/train/ppmr/\")\n",
        "for i in test_control_images:\n",
        "  shutil.copy(i, \"/content/folder/test/control/\")\n",
        "for i in test_PPMR_images:\n",
        "  shutil.copy(i, \"/content/folder/test/ppmr/\")"
      ],
      "metadata": {
        "id": "o5R8uOUhcBn0"
      },
      "execution_count": null,
      "outputs": []
    },
    {
      "cell_type": "code",
      "source": [
        "len(os.listdir(\"/content/folder/train/control\")), len(os.listdir(\"/content/folder/train/ppmr\")), len(os.listdir(\"/content/folder/test/control\")), len(os.listdir(\"/content/folder/test/ppmr/\"))"
      ],
      "metadata": {
        "id": "9O4bvlqGcBn0"
      },
      "execution_count": null,
      "outputs": []
    },
    {
      "cell_type": "code",
      "source": [
        "dataset = load_dataset(\"imagefolder\", data_dir=\"/content/folder\")"
      ],
      "metadata": {
        "id": "mMwKMs8-cBn0"
      },
      "execution_count": null,
      "outputs": []
    },
    {
      "cell_type": "code",
      "source": [
        "dataset.push_to_hub(\"sha000/ppmr-full-unbalanced\")"
      ],
      "metadata": {
        "id": "8F__JHNncBn0"
      },
      "execution_count": null,
      "outputs": []
    },
    {
      "cell_type": "markdown",
      "source": [
        "#Google ViT Training"
      ],
      "metadata": {
        "id": "gnGtiIykceq6"
      }
    },
    {
      "cell_type": "code",
      "source": [
        "dataset = load_dataset(\"sha000/ppmr-large-balanced\")"
      ],
      "metadata": {
        "id": "qz38Qk-mcdtp"
      },
      "execution_count": null,
      "outputs": []
    },
    {
      "cell_type": "code",
      "source": [
        "test_dataset = dataset[\"test\"]\n",
        "train_dataset = dataset[\"train\"]"
      ],
      "metadata": {
        "id": "ZMrFVSCDc7PB"
      },
      "execution_count": null,
      "outputs": []
    },
    {
      "cell_type": "code",
      "source": [
        "train_dataset.features"
      ],
      "metadata": {
        "id": "7hJxLu2G8EYA"
      },
      "execution_count": null,
      "outputs": []
    },
    {
      "cell_type": "code",
      "source": [
        "train_dataset[0]"
      ],
      "metadata": {
        "id": "cnB_Fq77wyFj"
      },
      "execution_count": null,
      "outputs": []
    },
    {
      "cell_type": "code",
      "source": [
        "id2label = {id:label for id, label in enumerate(train_dataset.features['label'].names)}\n",
        "label2id = {label:id for id,label in id2label.items()}\n",
        "id2label"
      ],
      "metadata": {
        "id": "K0SU7Wo-w4zM"
      },
      "execution_count": null,
      "outputs": []
    },
    {
      "cell_type": "code",
      "source": [
        "id2label[train_dataset[0]['label']]\n"
      ],
      "metadata": {
        "id": "OPDCS06j0LJd"
      },
      "execution_count": null,
      "outputs": []
    },
    {
      "cell_type": "code",
      "source": [
        "# Load model directly\n",
        "from transformers import AutoImageProcessor, AutoModelForImageClassification\n",
        "\n",
        "processor = AutoImageProcessor.from_pretrained(\"google/vit-base-patch16-224-in21k\")"
      ],
      "metadata": {
        "id": "ElciCdnw4HoO"
      },
      "execution_count": null,
      "outputs": []
    },
    {
      "cell_type": "code",
      "source": [
        "from transformers import DefaultDataCollator\n",
        "\n",
        "data_collator = DefaultDataCollator()\n"
      ],
      "metadata": {
        "id": "KiUNPQYkbNZ6"
      },
      "execution_count": null,
      "outputs": []
    },
    {
      "cell_type": "code",
      "source": [
        "from torchvision.transforms import Resize,ToTensor, Compose\n",
        "_transforms = Compose([Resize((224,224)), ToTensor()])\n",
        "\n",
        "def transforms(examples):\n",
        "\n",
        "\texamples[\"pixel_values\"] = [_transforms(img.convert(\"RGB\")) for img in examples[\"image\"]]\n",
        "\tdel examples[\"image\"]\n",
        "\treturn examples\n",
        "\n",
        "train_transformed = train_dataset.with_transform(transforms)"
      ],
      "metadata": {
        "id": "09RDF1BmABXD"
      },
      "execution_count": null,
      "outputs": []
    },
    {
      "cell_type": "code",
      "source": [
        "dataset_transformed = dataset.with_transform(transforms)"
      ],
      "metadata": {
        "id": "cgzixPt8B61D"
      },
      "execution_count": null,
      "outputs": []
    },
    {
      "cell_type": "code",
      "source": [
        "import evaluate\n",
        "def compute_metrics(eval_pred):\n",
        "   metric1 = evaluate.load(\"accuracy\")\n",
        "   metric2 = evaluate.load(\"f1\")\n",
        "   metric3 = evaluate.load(\"precision\")\n",
        "   metric4 = evaluate.load(\"recall\")\n",
        "   predictions, labels = eval_pred\n",
        "   predictions = np.argmax(predictions, axis=1)\n",
        "   accuracy = metric1.compute(predictions=predictions,\n",
        "                              references=labels)\n",
        "   f1 = metric2.compute(predictions=predictions,\n",
        "                        references=labels, average=\"weighted\")\n",
        "   precision = metric3.compute(predictions=predictions,\n",
        "                               references=labels, average=\"weighted\")\n",
        "   recall = metric4.compute(predictions=predictions,\n",
        "                            references=labels, average=\"weighted\")\n",
        "   return {\"precision\":precision[\"precision\"],\"recall\":recall[\"recall\"],\"accuracy\":accuracy[\"accuracy\"],\"f1\":f1[\"f1\"]}"
      ],
      "metadata": {
        "id": "V7BfNK7mAbaN"
      },
      "execution_count": null,
      "outputs": []
    },
    {
      "cell_type": "code",
      "source": [
        "from transformers import AutoModelForImageClassification\n",
        "model = AutoModelForImageClassification.from_pretrained(\n",
        "   \"google/vit-base-patch16-224-in21k\",\n",
        "   num_labels=2,\n",
        "   id2label=id2label,\n",
        "   label2id=label2id,\n",
        "   ignore_mismatched_sizes=True\n",
        ")\n",
        "\n"
      ],
      "metadata": {
        "id": "XrECPRo3BP89"
      },
      "execution_count": null,
      "outputs": []
    },
    {
      "cell_type": "code",
      "source": [
        "dataset_transformed[\"train\"][0]"
      ],
      "metadata": {
        "id": "fgyR8FI6CAun"
      },
      "execution_count": null,
      "outputs": []
    },
    {
      "cell_type": "code",
      "source": [
        "from transformers import TrainingArguments, Trainer\n",
        "training_args = TrainingArguments(\n",
        "\toutput_dir=\"./ppmr_classifier\",\n",
        "\tremove_unused_columns=False,\n",
        "\tevaluation_strategy=\"epoch\",\n",
        "\tsave_strategy=\"epoch\",\n",
        "\tlearning_rate=5e-5,\n",
        "\tper_device_train_batch_size=16,\n",
        "\tgradient_accumulation_steps=4,\n",
        "\tper_device_eval_batch_size=16,\n",
        "\tnum_train_epochs=8,\n",
        "\twarmup_ratio=0.1,\n",
        "\tlogging_steps=10,\n",
        "\tload_best_model_at_end=True,\n",
        "\treport_to=\"tensorboard\",\n",
        "\tmetric_for_best_model=\"accuracy\"\n",
        ")\n",
        "\n",
        "trainer = Trainer(\n",
        "\tmodel=model,\n",
        "\targs=training_args,\n",
        "\tdata_collator=data_collator,\n",
        "\ttrain_dataset=dataset_transformed[\"train\"],\n",
        "\teval_dataset=dataset_transformed[\"train\"],\n",
        "\ttokenizer=processor,\n",
        "\tcompute_metrics=compute_metrics,\n",
        ")"
      ],
      "metadata": {
        "id": "QskJqj61BiRi"
      },
      "execution_count": null,
      "outputs": []
    },
    {
      "cell_type": "code",
      "source": [
        "trainer.train()"
      ],
      "metadata": {
        "id": "mV3_cXdlCHUA"
      },
      "execution_count": null,
      "outputs": []
    },
    {
      "cell_type": "markdown",
      "source": [
        "#Facebook DeiT Training"
      ],
      "metadata": {
        "id": "lDvMOxped7O1"
      }
    },
    {
      "cell_type": "code",
      "source": [
        "dataset = load_dataset(\"sha000/ppmr-large-balanced\")"
      ],
      "metadata": {
        "id": "J2eVwtd7d9iH"
      },
      "execution_count": null,
      "outputs": []
    },
    {
      "cell_type": "code",
      "source": [
        "test_dataset = dataset[\"test\"]\n",
        "train_dataset = dataset[\"train\"]"
      ],
      "metadata": {
        "id": "2HspytiNd9iH"
      },
      "execution_count": null,
      "outputs": []
    },
    {
      "cell_type": "code",
      "source": [
        "train_dataset.features"
      ],
      "metadata": {
        "id": "sxw6NwVod9iH"
      },
      "execution_count": null,
      "outputs": []
    },
    {
      "cell_type": "code",
      "source": [
        "train_dataset[0]"
      ],
      "metadata": {
        "id": "R0yLhTi1d9iH"
      },
      "execution_count": null,
      "outputs": []
    },
    {
      "cell_type": "code",
      "source": [
        "id2label = {id:label for id, label in enumerate(train_dataset.features['label'].names)}\n",
        "label2id = {label:id for id,label in id2label.items()}\n",
        "id2label"
      ],
      "metadata": {
        "id": "J9WpPFDXd9iH"
      },
      "execution_count": null,
      "outputs": []
    },
    {
      "cell_type": "code",
      "source": [
        "id2label[train_dataset[0]['label']]\n"
      ],
      "metadata": {
        "id": "N_ks8KqWd9iH"
      },
      "execution_count": null,
      "outputs": []
    },
    {
      "cell_type": "code",
      "source": [
        "# Load model directly\n",
        "from transformers import AutoImageProcessor, AutoModelForImageClassification\n",
        "\n",
        "processor = AutoImageProcessor.from_pretrained(\"facebook/deit-base-patch16-224\")"
      ],
      "metadata": {
        "id": "ZPvn5cjUd9iH"
      },
      "execution_count": null,
      "outputs": []
    },
    {
      "cell_type": "code",
      "source": [
        "from transformers import DefaultDataCollator\n",
        "\n",
        "data_collator = DefaultDataCollator()\n"
      ],
      "metadata": {
        "id": "psj6NM-Hd9iI"
      },
      "execution_count": null,
      "outputs": []
    },
    {
      "cell_type": "code",
      "source": [
        "from torchvision.transforms import Resize,ToTensor, Compose\n",
        "_transforms = Compose([Resize((224,224)), ToTensor()])\n",
        "\n",
        "def transforms(examples):\n",
        "\n",
        "\texamples[\"pixel_values\"] = [_transforms(img.convert(\"RGB\")) for img in examples[\"image\"]]\n",
        "\tdel examples[\"image\"]\n",
        "\treturn examples\n",
        "\n",
        "train_transformed = train_dataset.with_transform(transforms)"
      ],
      "metadata": {
        "id": "a2NcxXBEd9iI"
      },
      "execution_count": null,
      "outputs": []
    },
    {
      "cell_type": "code",
      "source": [
        "dataset_transformed = dataset.with_transform(transforms)"
      ],
      "metadata": {
        "id": "oEs-_exZd9iI"
      },
      "execution_count": null,
      "outputs": []
    },
    {
      "cell_type": "code",
      "source": [
        "import evaluate\n",
        "def compute_metrics(eval_pred):\n",
        "   metric1 = evaluate.load(\"accuracy\")\n",
        "   metric2 = evaluate.load(\"f1\")\n",
        "   metric3 = evaluate.load(\"precision\")\n",
        "   metric4 = evaluate.load(\"recall\")\n",
        "   predictions, labels = eval_pred\n",
        "   predictions = np.argmax(predictions, axis=1)\n",
        "   accuracy = metric1.compute(predictions=predictions,\n",
        "                              references=labels)\n",
        "   f1 = metric2.compute(predictions=predictions,\n",
        "                        references=labels, average=\"weighted\")\n",
        "   precision = metric3.compute(predictions=predictions,\n",
        "                               references=labels, average=\"weighted\")\n",
        "   recall = metric4.compute(predictions=predictions,\n",
        "                            references=labels, average=\"weighted\")\n",
        "   return {\"precision\":precision[\"precision\"],\"recall\":recall[\"recall\"],\"accuracy\":accuracy[\"accuracy\"],\"f1\":f1[\"f1\"]}"
      ],
      "metadata": {
        "id": "y5flVKAbd9iI"
      },
      "execution_count": null,
      "outputs": []
    },
    {
      "cell_type": "code",
      "source": [
        "from transformers import AutoModelForImageClassification\n",
        "model = AutoModelForImageClassification.from_pretrained(\n",
        "   \"facebook/deit-base-patch16-224\",\n",
        "   num_labels=2,\n",
        "   id2label=id2label,\n",
        "   label2id=label2id,\n",
        "   ignore_mismatched_sizes=True\n",
        ")\n",
        "\n"
      ],
      "metadata": {
        "id": "cyCF94wjd9iI"
      },
      "execution_count": null,
      "outputs": []
    },
    {
      "cell_type": "code",
      "source": [
        "dataset_transformed[\"train\"][0]"
      ],
      "metadata": {
        "id": "jiK4VqSXd9iI"
      },
      "execution_count": null,
      "outputs": []
    },
    {
      "cell_type": "code",
      "source": [
        "from transformers import TrainingArguments, Trainer\n",
        "training_args = TrainingArguments(\n",
        "\toutput_dir=\"./ppmr_classifier\",\n",
        "\tremove_unused_columns=False,\n",
        "\tevaluation_strategy=\"epoch\",\n",
        "\tsave_strategy=\"epoch\",\n",
        "\tlearning_rate=5e-5,\n",
        "\tper_device_train_batch_size=16,\n",
        "\tgradient_accumulation_steps=4,\n",
        "\tper_device_eval_batch_size=16,\n",
        "\tnum_train_epochs=8,\n",
        "\twarmup_ratio=0.1,\n",
        "\tlogging_steps=10,\n",
        "\tload_best_model_at_end=True,\n",
        "\treport_to=\"tensorboard\",\n",
        "\tmetric_for_best_model=\"accuracy\"\n",
        ")\n",
        "\n",
        "trainer = Trainer(\n",
        "\tmodel=model,\n",
        "\targs=training_args,\n",
        "\tdata_collator=data_collator,\n",
        "\ttrain_dataset=dataset_transformed[\"train\"],\n",
        "\teval_dataset=dataset_transformed[\"train\"],\n",
        "\ttokenizer=processor,\n",
        "\tcompute_metrics=compute_metrics,\n",
        ")"
      ],
      "metadata": {
        "id": "4ZrV-QKEd9iI"
      },
      "execution_count": null,
      "outputs": []
    },
    {
      "cell_type": "code",
      "source": [
        "trainer.train()"
      ],
      "metadata": {
        "id": "Iq1qO-OAd9iI"
      },
      "execution_count": null,
      "outputs": []
    },
    {
      "cell_type": "markdown",
      "source": [
        "#Microsoft BEiT Training"
      ],
      "metadata": {
        "id": "u4obejKJeNDP"
      }
    },
    {
      "cell_type": "code",
      "source": [
        "dataset = load_dataset(\"sha000/ppmr-large-balanced\")"
      ],
      "metadata": {
        "id": "J6xvH10CfZAS"
      },
      "execution_count": null,
      "outputs": []
    },
    {
      "cell_type": "code",
      "source": [
        "test_dataset = dataset[\"test\"]\n",
        "train_dataset = dataset[\"train\"]"
      ],
      "metadata": {
        "id": "J6JGNRQZfZAY"
      },
      "execution_count": null,
      "outputs": []
    },
    {
      "cell_type": "code",
      "source": [
        "train_dataset.features"
      ],
      "metadata": {
        "id": "WraIwHuPfZAY"
      },
      "execution_count": null,
      "outputs": []
    },
    {
      "cell_type": "code",
      "source": [
        "train_dataset[0]"
      ],
      "metadata": {
        "id": "ELu9K9BefZAY"
      },
      "execution_count": null,
      "outputs": []
    },
    {
      "cell_type": "code",
      "source": [
        "id2label = {id:label for id, label in enumerate(train_dataset.features['label'].names)}\n",
        "label2id = {label:id for id,label in id2label.items()}\n",
        "id2label"
      ],
      "metadata": {
        "id": "xIyzLb5TfZAY"
      },
      "execution_count": null,
      "outputs": []
    },
    {
      "cell_type": "code",
      "source": [
        "id2label[train_dataset[0]['label']]\n"
      ],
      "metadata": {
        "id": "S8tf_QrZfZAY"
      },
      "execution_count": null,
      "outputs": []
    },
    {
      "cell_type": "code",
      "source": [
        "# Load model directly\n",
        "from transformers import AutoImageProcessor, AutoModelForImageClassification\n",
        "\n",
        "processor = AutoImageProcessor.from_pretrained(\"microsoft/beit-base-patch16-224-pt22k-ft22k\")"
      ],
      "metadata": {
        "id": "5ZRCL5EAfZAY"
      },
      "execution_count": null,
      "outputs": []
    },
    {
      "cell_type": "code",
      "source": [
        "from transformers import DefaultDataCollator\n",
        "\n",
        "data_collator = DefaultDataCollator()\n"
      ],
      "metadata": {
        "id": "O82yN7lIfZAY"
      },
      "execution_count": null,
      "outputs": []
    },
    {
      "cell_type": "code",
      "source": [
        "from torchvision.transforms import Resize,ToTensor, Compose\n",
        "_transforms = Compose([Resize((224,224)), ToTensor()])\n",
        "\n",
        "def transforms(examples):\n",
        "\n",
        "\texamples[\"pixel_values\"] = [_transforms(img.convert(\"RGB\")) for img in examples[\"image\"]]\n",
        "\tdel examples[\"image\"]\n",
        "\treturn examples\n",
        "\n",
        "train_transformed = train_dataset.with_transform(transforms)"
      ],
      "metadata": {
        "id": "8_PdsKmlfZAY"
      },
      "execution_count": null,
      "outputs": []
    },
    {
      "cell_type": "code",
      "source": [
        "dataset_transformed = dataset.with_transform(transforms)"
      ],
      "metadata": {
        "id": "HG5Cll6qfZAY"
      },
      "execution_count": null,
      "outputs": []
    },
    {
      "cell_type": "code",
      "source": [
        "import evaluate\n",
        "def compute_metrics(eval_pred):\n",
        "   metric1 = evaluate.load(\"accuracy\")\n",
        "   metric2 = evaluate.load(\"f1\")\n",
        "   metric3 = evaluate.load(\"precision\")\n",
        "   metric4 = evaluate.load(\"recall\")\n",
        "   predictions, labels = eval_pred\n",
        "   predictions = np.argmax(predictions, axis=1)\n",
        "   accuracy = metric1.compute(predictions=predictions,\n",
        "                              references=labels)\n",
        "   f1 = metric2.compute(predictions=predictions,\n",
        "                        references=labels, average=\"weighted\")\n",
        "   precision = metric3.compute(predictions=predictions,\n",
        "                               references=labels, average=\"weighted\")\n",
        "   recall = metric4.compute(predictions=predictions,\n",
        "                            references=labels, average=\"weighted\")\n",
        "   return {\"precision\":precision[\"precision\"],\"recall\":recall[\"recall\"],\"accuracy\":accuracy[\"accuracy\"],\"f1\":f1[\"f1\"]}"
      ],
      "metadata": {
        "id": "7MEYiKerfZAY"
      },
      "execution_count": null,
      "outputs": []
    },
    {
      "cell_type": "code",
      "source": [
        "from transformers import AutoModelForImageClassification\n",
        "model = AutoModelForImageClassification.from_pretrained(\n",
        "   \"microsoft/beit-base-patch16-224-pt22k-ft22k\",\n",
        "   num_labels=2,\n",
        "   id2label=id2label,\n",
        "   label2id=label2id,\n",
        "   ignore_mismatched_sizes=True\n",
        ")\n",
        "\n"
      ],
      "metadata": {
        "id": "ba1BCJe8fZAY"
      },
      "execution_count": null,
      "outputs": []
    },
    {
      "cell_type": "code",
      "source": [
        "dataset_transformed[\"train\"][0]"
      ],
      "metadata": {
        "id": "NcnMcCXVfZAZ"
      },
      "execution_count": null,
      "outputs": []
    },
    {
      "cell_type": "code",
      "source": [
        "from transformers import TrainingArguments, Trainer\n",
        "training_args = TrainingArguments(\n",
        "\toutput_dir=\"./ppmr_classifier\",\n",
        "\tremove_unused_columns=False,\n",
        "\tevaluation_strategy=\"epoch\",\n",
        "\tsave_strategy=\"epoch\",\n",
        "\tlearning_rate=5e-5,\n",
        "\tper_device_train_batch_size=16,\n",
        "\tgradient_accumulation_steps=4,\n",
        "\tper_device_eval_batch_size=16,\n",
        "\tnum_train_epochs=8,\n",
        "\twarmup_ratio=0.1,\n",
        "\tlogging_steps=10,\n",
        "\tload_best_model_at_end=True,\n",
        "\treport_to=\"tensorboard\",\n",
        "\tmetric_for_best_model=\"accuracy\"\n",
        ")\n",
        "\n",
        "trainer = Trainer(\n",
        "\tmodel=model,\n",
        "\targs=training_args,\n",
        "\tdata_collator=data_collator,\n",
        "\ttrain_dataset=dataset_transformed[\"train\"],\n",
        "\teval_dataset=dataset_transformed[\"train\"],\n",
        "\ttokenizer=processor,\n",
        "\tcompute_metrics=compute_metrics,\n",
        ")"
      ],
      "metadata": {
        "id": "QM95bTbefZAZ"
      },
      "execution_count": null,
      "outputs": []
    },
    {
      "cell_type": "code",
      "source": [
        "trainer.train()"
      ],
      "metadata": {
        "id": "Arx0kmuifZAZ"
      },
      "execution_count": null,
      "outputs": []
    }
  ]
}